{
 "cells": [
  {
   "cell_type": "code",
   "execution_count": 1,
   "id": "b060b036",
   "metadata": {},
   "outputs": [],
   "source": [
    "import bernoulli\n",
    "import numpy as np"
   ]
  },
  {
   "cell_type": "code",
   "execution_count": 4,
   "id": "0f6404d9",
   "metadata": {},
   "outputs": [
    {
     "data": {
      "text/plain": [
       "array([1, 1, 1, 0, 1, 0, 1, 0, 0, 0, 0, 0, 0, 1, 0, 0, 0, 1, 1, 0],\n",
       "      dtype=int64)"
      ]
     },
     "execution_count": 4,
     "metadata": {},
     "output_type": "execute_result"
    }
   ],
   "source": [
    "model = bernoulli.GenModel()\n",
    "model.gen_sample(20)"
   ]
  },
  {
   "cell_type": "code",
   "execution_count": 2,
   "id": "09421696",
   "metadata": {},
   "outputs": [
    {
     "name": "stdout",
     "output_type": "stream",
     "text": [
      "p:0.5\n",
      "X0:[0 1 0 0 0 0 0 0 1 1 1 1 0 0 1 1 0 0 0 0]\n",
      "X1:[0 0 0 1 1 0 1 0 1 0 0 1 1 1 1 1 0 1 1 1]\n",
      "X2:[1 1 0 1 1 1 1 0 0 0 1 1 1 0 0 0 1 1 0 0]\n",
      "X3:[1 1 1 0 0 0 0 0 0 1 0 1 0 0 0 1 0 1 1 1]\n",
      "X4:[0 1 1 0 0 1 0 0 1 1 0 1 1 1 0 1 1 1 1 0]\n"
     ]
    },
    {
     "data": {
      "image/png": "[encoded data removed]",
      "text/plain": [
       "<Figure size 360x360 with 1 Axes>"
      ]
     },
     "metadata": {
      "needs_background": "light"
     },
     "output_type": "display_data"
    }
   ],
   "source": [
    "model = bernoulli.GenModel()\n",
    "model.visualize_model()"
   ]
  }
 ],
 "metadata": {
  "kernelspec": {
   "display_name": "Python 3 (ipykernel)",
   "language": "python",
   "name": "python3"
  },
  "language_info": {
   "codemirror_mode": {
    "name": "ipython",
    "version": 3
   },
   "file_extension": ".py",
   "mimetype": "text/x-python",
   "name": "python",
   "nbconvert_exporter": "python",
   "pygments_lexer": "ipython3",
   "version": "3.9.7"
  }
 },
 "nbformat": 4,
 "nbformat_minor": 5
}
