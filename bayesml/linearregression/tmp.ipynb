{
 "cells": [
  {
   "cell_type": "code",
   "execution_count": 1,
   "metadata": {},
   "outputs": [],
   "source": [
    "from bayesml import linearregression\n",
    "import numpy as np"
   ]
  },
  {
   "cell_type": "code",
   "execution_count": 2,
   "metadata": {},
   "outputs": [],
   "source": [
    "gen_model = linearregression.GenModel(c_degree=2,seed=1)\n",
    "gen_model.gen_params()\n",
    "x,y = gen_model.gen_sample(sample_size=10)"
   ]
  },
  {
   "cell_type": "code",
   "execution_count": 3,
   "metadata": {},
   "outputs": [
    {
     "data": {
      "text/plain": [
       "array([[-1.30315723,  1.        ],\n",
       "       [ 0.44637457,  1.        ],\n",
       "       [ 0.5811181 ,  1.        ],\n",
       "       [ 0.2941325 ,  1.        ],\n",
       "       [ 0.54671299,  1.        ],\n",
       "       [-0.16290995,  1.        ],\n",
       "       [ 0.59884621,  1.        ],\n",
       "       [-0.29245675,  1.        ],\n",
       "       [-0.25719224,  1.        ],\n",
       "       [-0.27560291,  1.        ]])"
      ]
     },
     "execution_count": 3,
     "metadata": {},
     "output_type": "execute_result"
    }
   ],
   "source": [
    "x"
   ]
  },
  {
   "cell_type": "code",
   "execution_count": 4,
   "metadata": {},
   "outputs": [
    {
     "data": {
      "text/plain": [
       "array([ 0.2572364 , -1.94423406, -1.04368096,  0.38357047,  0.34505834,\n",
       "        0.39602445,  1.00377535,  2.13152772, -0.95851449, -0.26413351])"
      ]
     },
     "execution_count": 4,
     "metadata": {},
     "output_type": "execute_result"
    }
   ],
   "source": [
    "y"
   ]
  },
  {
   "cell_type": "code",
   "execution_count": 5,
   "metadata": {},
   "outputs": [
    {
     "name": "stdout",
     "output_type": "stream",
     "text": [
      "{'theta_vec': array([0.79316636, 0.31899438]), 'tau': 1.0730290263725388}\n"
     ]
    }
   ],
   "source": [
    "print(gen_model.get_params())"
   ]
  },
  {
   "cell_type": "code",
   "execution_count": 6,
   "metadata": {},
   "outputs": [
    {
     "data": {
      "text/plain": [
       "<bayesml.linearregression._linearregression.LearnModel at 0x14c4f1110>"
      ]
     },
     "execution_count": 6,
     "metadata": {},
     "output_type": "execute_result"
    }
   ],
   "source": [
    "learn_model = linearregression.LearnModel(c_degree=2)\n",
    "learn_model.update_posterior(x,y)"
   ]
  },
  {
   "cell_type": "code",
   "execution_count": 7,
   "metadata": {},
   "outputs": [
    {
     "ename": "ValueError",
     "evalue": "solve: Input operand 1 has a mismatch in its core dimension 0, with gufunc signature (m,m),(m,n)->(m,n) (size 10 is different from 2)",
     "output_type": "error",
     "traceback": [
      "\u001b[0;31m---------------------------------------------------------------------------\u001b[0m",
      "\u001b[0;31mValueError\u001b[0m                                Traceback (most recent call last)",
      "Cell \u001b[0;32mIn[7], line 1\u001b[0m\n\u001b[0;32m----> 1\u001b[0m learn_model\u001b[38;5;241m.\u001b[39mcalc_pred_dist(x)\n",
      "File \u001b[0;32m~/Documents/GitHub/BayesML/bayesml/linearregression/_linearregression.py:718\u001b[0m, in \u001b[0;36mLearnModel.calc_pred_dist\u001b[0;34m(self, x)\u001b[0m\n\u001b[1;32m    714\u001b[0m \u001b[38;5;66;03m# _check.float_vec(x,'x',DataFormatError)\u001b[39;00m\n\u001b[1;32m    715\u001b[0m \u001b[38;5;66;03m# if x.shape != (self.c_degree,):\u001b[39;00m\n\u001b[1;32m    716\u001b[0m \u001b[38;5;66;03m#     raise(DataFormatError(\"x must be a 1 dimensional float array whose size coincide with ``self.c_degree``\"))\u001b[39;00m\n\u001b[1;32m    717\u001b[0m \u001b[38;5;28mself\u001b[39m\u001b[38;5;241m.\u001b[39mp_m \u001b[38;5;241m=\u001b[39m x \u001b[38;5;241m@\u001b[39m \u001b[38;5;28mself\u001b[39m\u001b[38;5;241m.\u001b[39mhn_mu_vec\n\u001b[0;32m--> 718\u001b[0m \u001b[38;5;28mself\u001b[39m\u001b[38;5;241m.\u001b[39mp_lambda \u001b[38;5;241m=\u001b[39m \u001b[38;5;28mself\u001b[39m\u001b[38;5;241m.\u001b[39mhn_alpha \u001b[38;5;241m/\u001b[39m \u001b[38;5;28mself\u001b[39m\u001b[38;5;241m.\u001b[39mhn_beta \u001b[38;5;241m/\u001b[39m (\u001b[38;5;241m1.0\u001b[39m \u001b[38;5;241m+\u001b[39m x \u001b[38;5;241m@\u001b[39m np\u001b[38;5;241m.\u001b[39mlinalg\u001b[38;5;241m.\u001b[39msolve(\u001b[38;5;28mself\u001b[39m\u001b[38;5;241m.\u001b[39mhn_lambda_mat,x))\n\u001b[1;32m    719\u001b[0m \u001b[38;5;66;03m# self.p_lambda = self.hn_alpha / self.hn_beta / (1.0 + np.sum(x.T * np.linalg.solve(self.hn_lambda_mat,x.T),axis=0))\u001b[39;00m\n\u001b[1;32m    720\u001b[0m \u001b[38;5;28mself\u001b[39m\u001b[38;5;241m.\u001b[39mp_nu \u001b[38;5;241m=\u001b[39m \u001b[38;5;241m2.0\u001b[39m \u001b[38;5;241m*\u001b[39m \u001b[38;5;28mself\u001b[39m\u001b[38;5;241m.\u001b[39mhn_alpha\n",
      "File \u001b[0;32m<__array_function__ internals>:200\u001b[0m, in \u001b[0;36msolve\u001b[0;34m(*args, **kwargs)\u001b[0m\n",
      "File \u001b[0;32m/opt/anaconda3/envs/bayesml_dev/lib/python3.11/site-packages/numpy/linalg/linalg.py:386\u001b[0m, in \u001b[0;36msolve\u001b[0;34m(a, b)\u001b[0m\n\u001b[1;32m    384\u001b[0m signature \u001b[38;5;241m=\u001b[39m \u001b[38;5;124m'\u001b[39m\u001b[38;5;124mDD->D\u001b[39m\u001b[38;5;124m'\u001b[39m \u001b[38;5;28;01mif\u001b[39;00m isComplexType(t) \u001b[38;5;28;01melse\u001b[39;00m \u001b[38;5;124m'\u001b[39m\u001b[38;5;124mdd->d\u001b[39m\u001b[38;5;124m'\u001b[39m\n\u001b[1;32m    385\u001b[0m extobj \u001b[38;5;241m=\u001b[39m get_linalg_error_extobj(_raise_linalgerror_singular)\n\u001b[0;32m--> 386\u001b[0m r \u001b[38;5;241m=\u001b[39m gufunc(a, b, signature\u001b[38;5;241m=\u001b[39msignature, extobj\u001b[38;5;241m=\u001b[39mextobj)\n\u001b[1;32m    388\u001b[0m \u001b[38;5;28;01mreturn\u001b[39;00m wrap(r\u001b[38;5;241m.\u001b[39mastype(result_t, copy\u001b[38;5;241m=\u001b[39m\u001b[38;5;28;01mFalse\u001b[39;00m))\n",
      "\u001b[0;31mValueError\u001b[0m: solve: Input operand 1 has a mismatch in its core dimension 0, with gufunc signature (m,m),(m,n)->(m,n) (size 10 is different from 2)"
     ]
    }
   ],
   "source": [
    "learn_model.calc_pred_dist(x)"
   ]
  },
  {
   "cell_type": "code",
   "execution_count": 8,
   "metadata": {},
   "outputs": [
    {
     "name": "stdout",
     "output_type": "stream",
     "text": [
      "{'p_m': array([ 0.42714721, -0.10239176, -0.14317522, -0.05631194, -0.13276166,\n",
      "        0.08202323, -0.14854107,  0.12123377,  0.1105601 ,  0.11613254]), 'p_lambda': 1.0, 'p_nu': 2.0}\n"
     ]
    }
   ],
   "source": [
    "print(learn_model.get_p_params())"
   ]
  },
  {
   "cell_type": "code",
   "execution_count": 9,
   "metadata": {},
   "outputs": [
    {
     "data": {
      "text/plain": [
       "<scipy.stats._distn_infrastructure.rv_continuous_frozen at 0x14c4f0cd0>"
      ]
     },
     "execution_count": 9,
     "metadata": {},
     "output_type": "execute_result"
    }
   ],
   "source": [
    "learn_model.make_prediction(loss='KL')"
   ]
  },
  {
   "cell_type": "code",
   "execution_count": 10,
   "metadata": {},
   "outputs": [],
   "source": [
    "p_params_batch = learn_model.get_p_params()"
   ]
  },
  {
   "cell_type": "code",
   "execution_count": 11,
   "metadata": {},
   "outputs": [],
   "source": [
    "p_params_seq = []\n",
    "for i in range(10):\n",
    "    learn_model.calc_pred_dist(x[i])\n",
    "    p_params_seq.append(learn_model.get_p_params())\n"
   ]
  },
  {
   "cell_type": "code",
   "execution_count": 12,
   "metadata": {},
   "outputs": [
    {
     "data": {
      "text/plain": [
       "[{'p_m': 0.42714721051663723, 'p_lambda': 0.5916276394259316, 'p_nu': 12.0},\n",
       " {'p_m': -0.10239176155884983, 'p_lambda': 0.7832639359232484, 'p_nu': 12.0},\n",
       " {'p_m': -0.1431752164114424, 'p_lambda': 0.7619717896431002, 'p_nu': 12.0},\n",
       " {'p_m': -0.05631194060649679, 'p_lambda': 0.8012690608119697, 'p_nu': 12.0},\n",
       " {'p_m': -0.13276165859089117, 'p_lambda': 0.7678385849077702, 'p_nu': 12.0},\n",
       " {'p_m': 0.08202323328694752, 'p_lambda': 0.8090901115344494, 'p_nu': 12.0},\n",
       " {'p_m': -0.1485410658906876, 'p_lambda': 0.7588420653498217, 'p_nu': 12.0},\n",
       " {'p_m': 0.12123376991501882, 'p_lambda': 0.7982456026015521, 'p_nu': 12.0},\n",
       " {'p_m': 0.1105600956685007, 'p_lambda': 0.8017367211580925, 'p_nu': 12.0},\n",
       " {'p_m': 0.11613253763727473, 'p_lambda': 0.7999631073472214, 'p_nu': 12.0}]"
      ]
     },
     "execution_count": 12,
     "metadata": {},
     "output_type": "execute_result"
    }
   ],
   "source": [
    "p_params_seq"
   ]
  },
  {
   "cell_type": "code",
   "execution_count": 13,
   "metadata": {},
   "outputs": [
    {
     "data": {
      "text/plain": [
       "{'p_m': array([ 0.42714721, -0.10239176, -0.14317522, -0.05631194, -0.13276166,\n",
       "         0.08202323, -0.14854107,  0.12123377,  0.1105601 ,  0.11613254]),\n",
       " 'p_lambda': 1.0,\n",
       " 'p_nu': 2.0}"
      ]
     },
     "execution_count": 13,
     "metadata": {},
     "output_type": "execute_result"
    }
   ],
   "source": [
    "p_params_batch"
   ]
  },
  {
   "cell_type": "code",
   "execution_count": 14,
   "metadata": {},
   "outputs": [
    {
     "ename": "IndexError",
     "evalue": "invalid index to scalar variable.",
     "output_type": "error",
     "traceback": [
      "\u001b[0;31m---------------------------------------------------------------------------\u001b[0m",
      "\u001b[0;31mIndexError\u001b[0m                                Traceback (most recent call last)",
      "Cell \u001b[0;32mIn[14], line 4\u001b[0m\n\u001b[1;32m      2\u001b[0m \u001b[38;5;28;01mif\u001b[39;00m p_params_batch[\u001b[38;5;124m'\u001b[39m\u001b[38;5;124mp_m\u001b[39m\u001b[38;5;124m'\u001b[39m][i] \u001b[38;5;241m!=\u001b[39m p_params_seq[i][\u001b[38;5;124m'\u001b[39m\u001b[38;5;124mp_m\u001b[39m\u001b[38;5;124m'\u001b[39m]:\n\u001b[1;32m      3\u001b[0m     \u001b[38;5;28mprint\u001b[39m(\u001b[38;5;124m'\u001b[39m\u001b[38;5;124mError in p_m\u001b[39m\u001b[38;5;124m'\u001b[39m)\n\u001b[0;32m----> 4\u001b[0m \u001b[38;5;28;01mif\u001b[39;00m \u001b[38;5;129;01mnot\u001b[39;00m np\u001b[38;5;241m.\u001b[39misclose(p_params_batch[\u001b[38;5;124m'\u001b[39m\u001b[38;5;124mp_lambda\u001b[39m\u001b[38;5;124m'\u001b[39m][i],p_params_seq[i][\u001b[38;5;124m'\u001b[39m\u001b[38;5;124mp_lambda\u001b[39m\u001b[38;5;124m'\u001b[39m]):\n\u001b[1;32m      5\u001b[0m     \u001b[38;5;28mprint\u001b[39m(\u001b[38;5;124m'\u001b[39m\u001b[38;5;124mError in p_lambda\u001b[39m\u001b[38;5;124m'\u001b[39m)\n",
      "\u001b[0;31mIndexError\u001b[0m: invalid index to scalar variable."
     ]
    }
   ],
   "source": [
    "for i in range(10):\n",
    "    if p_params_batch['p_m'][i] != p_params_seq[i]['p_m']:\n",
    "        print('Error in p_m')\n",
    "    if not np.isclose(p_params_batch['p_lambda'][i],p_params_seq[i]['p_lambda']):\n",
    "        print('Error in p_lambda')    "
   ]
  },
  {
   "cell_type": "code",
   "execution_count": null,
   "metadata": {},
   "outputs": [],
   "source": [
    "[{'p_m': 0.42714721051663723, 'p_lambda': 0.5916276394259316, 'p_nu': 12.0},\n",
    " {'p_m': -0.10239176155884983, 'p_lambda': 0.7832639359232484, 'p_nu': 12.0},\n",
    " {'p_m': -0.1431752164114424, 'p_lambda': 0.7619717896431002, 'p_nu': 12.0},\n",
    " {'p_m': -0.05631194060649679, 'p_lambda': 0.8012690608119697, 'p_nu': 12.0},\n",
    " {'p_m': -0.13276165859089117, 'p_lambda': 0.7678385849077702, 'p_nu': 12.0},\n",
    " {'p_m': 0.08202323328694752, 'p_lambda': 0.8090901115344494, 'p_nu': 12.0},\n",
    " {'p_m': -0.1485410658906876, 'p_lambda': 0.7588420653498217, 'p_nu': 12.0},\n",
    " {'p_m': 0.12123376991501882, 'p_lambda': 0.7982456026015521, 'p_nu': 12.0},\n",
    " {'p_m': 0.1105600956685007, 'p_lambda': 0.8017367211580925, 'p_nu': 12.0},\n",
    " {'p_m': 0.11613253763727473, 'p_lambda': 0.7999631073472214, 'p_nu': 12.0}]"
   ]
  },
  {
   "cell_type": "code",
   "execution_count": null,
   "metadata": {},
   "outputs": [],
   "source": [
    "[{'p_m': 0.42714721051663723, 'p_lambda': 0.5916276394259316, 'p_nu': 12.0},\n",
    " {'p_m': -0.10239176155884983, 'p_lambda': 0.7832639359232484, 'p_nu': 12.0},\n",
    " {'p_m': -0.1431752164114424, 'p_lambda': 0.7619717896431002, 'p_nu': 12.0},\n",
    " {'p_m': -0.05631194060649679, 'p_lambda': 0.8012690608119697, 'p_nu': 12.0},\n",
    " {'p_m': -0.13276165859089117, 'p_lambda': 0.7678385849077702, 'p_nu': 12.0},\n",
    " {'p_m': 0.08202323328694752, 'p_lambda': 0.8090901115344494, 'p_nu': 12.0},\n",
    " {'p_m': -0.1485410658906876, 'p_lambda': 0.7588420653498217, 'p_nu': 12.0},\n",
    " {'p_m': 0.12123376991501882, 'p_lambda': 0.7982456026015521, 'p_nu': 12.0},\n",
    " {'p_m': 0.1105600956685007, 'p_lambda': 0.8017367211580925, 'p_nu': 12.0},\n",
    " {'p_m': 0.11613253763727473, 'p_lambda': 0.7999631073472214, 'p_nu': 12.0}]"
   ]
  }
 ],
 "metadata": {
  "kernelspec": {
   "display_name": "bayesml_dev",
   "language": "python",
   "name": "python3"
  },
  "language_info": {
   "codemirror_mode": {
    "name": "ipython",
    "version": 3
   },
   "file_extension": ".py",
   "mimetype": "text/x-python",
   "name": "python",
   "nbconvert_exporter": "python",
   "pygments_lexer": "ipython3",
   "version": "3.11.3"
  }
 },
 "nbformat": 4,
 "nbformat_minor": 2
}
