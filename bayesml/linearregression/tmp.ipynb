{
 "cells": [
  {
   "cell_type": "code",
   "execution_count": 1,
   "metadata": {},
   "outputs": [],
   "source": [
    "from bayesml import linearregression\n",
    "import numpy as np"
   ]
  },
  {
   "cell_type": "code",
   "execution_count": 2,
   "metadata": {},
   "outputs": [],
   "source": [
    "gen_model = linearregression.GenModel(c_degree=2,seed=1)\n",
    "gen_model.gen_params()\n",
    "x,y = gen_model.gen_sample(sample_size=10)"
   ]
  },
  {
   "cell_type": "code",
   "execution_count": 3,
   "metadata": {},
   "outputs": [
    {
     "data": {
      "text/plain": [
       "array([[-1.30315723,  1.        ],\n",
       "       [ 0.44637457,  1.        ],\n",
       "       [ 0.5811181 ,  1.        ],\n",
       "       [ 0.2941325 ,  1.        ],\n",
       "       [ 0.54671299,  1.        ],\n",
       "       [-0.16290995,  1.        ],\n",
       "       [ 0.59884621,  1.        ],\n",
       "       [-0.29245675,  1.        ],\n",
       "       [-0.25719224,  1.        ],\n",
       "       [-0.27560291,  1.        ]])"
      ]
     },
     "execution_count": 3,
     "metadata": {},
     "output_type": "execute_result"
    }
   ],
   "source": [
    "x"
   ]
  },
  {
   "cell_type": "code",
   "execution_count": 4,
   "metadata": {},
   "outputs": [
    {
     "data": {
      "text/plain": [
       "array([ 0.2572364 , -1.94423406, -1.04368096,  0.38357047,  0.34505834,\n",
       "        0.39602445,  1.00377535,  2.13152772, -0.95851449, -0.26413351])"
      ]
     },
     "execution_count": 4,
     "metadata": {},
     "output_type": "execute_result"
    }
   ],
   "source": [
    "y"
   ]
  },
  {
   "cell_type": "code",
   "execution_count": 5,
   "metadata": {},
   "outputs": [
    {
     "name": "stdout",
     "output_type": "stream",
     "text": [
      "{'theta_vec': array([0.79316636, 0.31899438]), 'tau': 1.0730290263725388}\n"
     ]
    }
   ],
   "source": [
    "print(gen_model.get_params())"
   ]
  },
  {
   "cell_type": "code",
   "execution_count": 6,
   "metadata": {},
   "outputs": [
    {
     "data": {
      "text/plain": [
       "<bayesml.linearregression._linearregression.LearnModel at 0x14c265750>"
      ]
     },
     "execution_count": 6,
     "metadata": {},
     "output_type": "execute_result"
    }
   ],
   "source": [
    "learn_model = linearregression.LearnModel(c_degree=2)\n",
    "learn_model.update_posterior(x,y)"
   ]
  },
  {
   "cell_type": "code",
   "execution_count": 7,
   "metadata": {},
   "outputs": [
    {
     "data": {
      "text/plain": [
       "<bayesml.linearregression._linearregression.LearnModel at 0x14c265750>"
      ]
     },
     "execution_count": 7,
     "metadata": {},
     "output_type": "execute_result"
    }
   ],
   "source": [
    "learn_model.calc_pred_dist(x)"
   ]
  },
  {
   "cell_type": "code",
   "execution_count": 8,
   "metadata": {},
   "outputs": [
    {
     "name": "stdout",
     "output_type": "stream",
     "text": [
      "{'p_m': array([ 0.42714721, -0.10239176, -0.14317522, -0.05631194, -0.13276166,\n",
      "        0.08202323, -0.14854107,  0.12123377,  0.1105601 ,  0.11613254]), 'p_lambda': array([0.59162764, 0.78326394, 0.76197179, 0.80126906, 0.76783858,\n",
      "       0.80909011, 0.75884207, 0.7982456 , 0.80173672, 0.79996311]), 'p_nu': array([12., 12., 12., 12., 12., 12., 12., 12., 12., 12.])}\n"
     ]
    }
   ],
   "source": [
    "print(learn_model.get_p_params())"
   ]
  },
  {
   "cell_type": "code",
   "execution_count": 9,
   "metadata": {},
   "outputs": [
    {
     "data": {
      "text/plain": [
       "<scipy.stats._distn_infrastructure.rv_continuous_frozen at 0x14985d790>"
      ]
     },
     "execution_count": 9,
     "metadata": {},
     "output_type": "execute_result"
    }
   ],
   "source": [
    "learn_model.make_prediction(loss='KL')"
   ]
  },
  {
   "cell_type": "code",
   "execution_count": 10,
   "metadata": {},
   "outputs": [],
   "source": [
    "p_params_batch = learn_model.get_p_params()"
   ]
  },
  {
   "cell_type": "code",
   "execution_count": 11,
   "metadata": {},
   "outputs": [],
   "source": [
    "p_params_seq = []\n",
    "for i in range(10):\n",
    "    learn_model.calc_pred_dist(x[i])\n",
    "    p_params_seq.append(learn_model.get_p_params())\n"
   ]
  },
  {
   "cell_type": "code",
   "execution_count": 12,
   "metadata": {},
   "outputs": [
    {
     "data": {
      "text/plain": [
       "[{'p_m': array([0.42714721]),\n",
       "  'p_lambda': array([0.59162764]),\n",
       "  'p_nu': array([12.])},\n",
       " {'p_m': array([-0.10239176]),\n",
       "  'p_lambda': array([0.78326394]),\n",
       "  'p_nu': array([12.])},\n",
       " {'p_m': array([-0.14317522]),\n",
       "  'p_lambda': array([0.76197179]),\n",
       "  'p_nu': array([12.])},\n",
       " {'p_m': array([-0.05631194]),\n",
       "  'p_lambda': array([0.80126906]),\n",
       "  'p_nu': array([12.])},\n",
       " {'p_m': array([-0.13276166]),\n",
       "  'p_lambda': array([0.76783858]),\n",
       "  'p_nu': array([12.])},\n",
       " {'p_m': array([0.08202323]),\n",
       "  'p_lambda': array([0.80909011]),\n",
       "  'p_nu': array([12.])},\n",
       " {'p_m': array([-0.14854107]),\n",
       "  'p_lambda': array([0.75884207]),\n",
       "  'p_nu': array([12.])},\n",
       " {'p_m': array([0.12123377]),\n",
       "  'p_lambda': array([0.7982456]),\n",
       "  'p_nu': array([12.])},\n",
       " {'p_m': array([0.1105601]),\n",
       "  'p_lambda': array([0.80173672]),\n",
       "  'p_nu': array([12.])},\n",
       " {'p_m': array([0.11613254]),\n",
       "  'p_lambda': array([0.79996311]),\n",
       "  'p_nu': array([12.])}]"
      ]
     },
     "execution_count": 12,
     "metadata": {},
     "output_type": "execute_result"
    }
   ],
   "source": [
    "p_params_seq"
   ]
  },
  {
   "cell_type": "code",
   "execution_count": 13,
   "metadata": {},
   "outputs": [
    {
     "data": {
      "text/plain": [
       "{'p_m': array([ 0.42714721, -0.10239176, -0.14317522, -0.05631194, -0.13276166,\n",
       "         0.08202323, -0.14854107,  0.12123377,  0.1105601 ,  0.11613254]),\n",
       " 'p_lambda': array([0.59162764, 0.78326394, 0.76197179, 0.80126906, 0.76783858,\n",
       "        0.80909011, 0.75884207, 0.7982456 , 0.80173672, 0.79996311]),\n",
       " 'p_nu': array([12., 12., 12., 12., 12., 12., 12., 12., 12., 12.])}"
      ]
     },
     "execution_count": 13,
     "metadata": {},
     "output_type": "execute_result"
    }
   ],
   "source": [
    "p_params_batch"
   ]
  },
  {
   "cell_type": "code",
   "execution_count": 14,
   "metadata": {},
   "outputs": [],
   "source": [
    "for i in range(10):\n",
    "    if p_params_batch['p_m'][i] != p_params_seq[i]['p_m']:\n",
    "        print('Error in p_m')\n",
    "    if not np.isclose(p_params_batch['p_lambda'][i],p_params_seq[i]['p_lambda']):\n",
    "        print('Error in p_lambda')    "
   ]
  },
  {
   "cell_type": "code",
   "execution_count": 15,
   "metadata": {},
   "outputs": [
    {
     "data": {
      "text/plain": [
       "[{'p_m': 0.42714721051663723, 'p_lambda': 0.5916276394259316, 'p_nu': 12.0},\n",
       " {'p_m': -0.10239176155884983, 'p_lambda': 0.7832639359232484, 'p_nu': 12.0},\n",
       " {'p_m': -0.1431752164114424, 'p_lambda': 0.7619717896431002, 'p_nu': 12.0},\n",
       " {'p_m': -0.05631194060649679, 'p_lambda': 0.8012690608119697, 'p_nu': 12.0},\n",
       " {'p_m': -0.13276165859089117, 'p_lambda': 0.7678385849077702, 'p_nu': 12.0},\n",
       " {'p_m': 0.08202323328694752, 'p_lambda': 0.8090901115344494, 'p_nu': 12.0},\n",
       " {'p_m': -0.1485410658906876, 'p_lambda': 0.7588420653498217, 'p_nu': 12.0},\n",
       " {'p_m': 0.12123376991501882, 'p_lambda': 0.7982456026015521, 'p_nu': 12.0},\n",
       " {'p_m': 0.1105600956685007, 'p_lambda': 0.8017367211580925, 'p_nu': 12.0},\n",
       " {'p_m': 0.11613253763727473, 'p_lambda': 0.7999631073472214, 'p_nu': 12.0}]"
      ]
     },
     "execution_count": 15,
     "metadata": {},
     "output_type": "execute_result"
    }
   ],
   "source": [
    "[{'p_m': 0.42714721051663723, 'p_lambda': 0.5916276394259316, 'p_nu': 12.0},\n",
    " {'p_m': -0.10239176155884983, 'p_lambda': 0.7832639359232484, 'p_nu': 12.0},\n",
    " {'p_m': -0.1431752164114424, 'p_lambda': 0.7619717896431002, 'p_nu': 12.0},\n",
    " {'p_m': -0.05631194060649679, 'p_lambda': 0.8012690608119697, 'p_nu': 12.0},\n",
    " {'p_m': -0.13276165859089117, 'p_lambda': 0.7678385849077702, 'p_nu': 12.0},\n",
    " {'p_m': 0.08202323328694752, 'p_lambda': 0.8090901115344494, 'p_nu': 12.0},\n",
    " {'p_m': -0.1485410658906876, 'p_lambda': 0.7588420653498217, 'p_nu': 12.0},\n",
    " {'p_m': 0.12123376991501882, 'p_lambda': 0.7982456026015521, 'p_nu': 12.0},\n",
    " {'p_m': 0.1105600956685007, 'p_lambda': 0.8017367211580925, 'p_nu': 12.0},\n",
    " {'p_m': 0.11613253763727473, 'p_lambda': 0.7999631073472214, 'p_nu': 12.0}]"
   ]
  },
  {
   "cell_type": "code",
   "execution_count": 16,
   "metadata": {},
   "outputs": [
    {
     "data": {
      "text/plain": [
       "[{'p_m': 0.42714721051663723, 'p_lambda': 0.5916276394259316, 'p_nu': 12.0},\n",
       " {'p_m': -0.10239176155884983, 'p_lambda': 0.7832639359232484, 'p_nu': 12.0},\n",
       " {'p_m': -0.1431752164114424, 'p_lambda': 0.7619717896431002, 'p_nu': 12.0},\n",
       " {'p_m': -0.05631194060649679, 'p_lambda': 0.8012690608119697, 'p_nu': 12.0},\n",
       " {'p_m': -0.13276165859089117, 'p_lambda': 0.7678385849077702, 'p_nu': 12.0},\n",
       " {'p_m': 0.08202323328694752, 'p_lambda': 0.8090901115344494, 'p_nu': 12.0},\n",
       " {'p_m': -0.1485410658906876, 'p_lambda': 0.7588420653498217, 'p_nu': 12.0},\n",
       " {'p_m': 0.12123376991501882, 'p_lambda': 0.7982456026015521, 'p_nu': 12.0},\n",
       " {'p_m': 0.1105600956685007, 'p_lambda': 0.8017367211580925, 'p_nu': 12.0},\n",
       " {'p_m': 0.11613253763727473, 'p_lambda': 0.7999631073472214, 'p_nu': 12.0}]"
      ]
     },
     "execution_count": 16,
     "metadata": {},
     "output_type": "execute_result"
    }
   ],
   "source": [
    "[{'p_m': 0.42714721051663723, 'p_lambda': 0.5916276394259316, 'p_nu': 12.0},\n",
    " {'p_m': -0.10239176155884983, 'p_lambda': 0.7832639359232484, 'p_nu': 12.0},\n",
    " {'p_m': -0.1431752164114424, 'p_lambda': 0.7619717896431002, 'p_nu': 12.0},\n",
    " {'p_m': -0.05631194060649679, 'p_lambda': 0.8012690608119697, 'p_nu': 12.0},\n",
    " {'p_m': -0.13276165859089117, 'p_lambda': 0.7678385849077702, 'p_nu': 12.0},\n",
    " {'p_m': 0.08202323328694752, 'p_lambda': 0.8090901115344494, 'p_nu': 12.0},\n",
    " {'p_m': -0.1485410658906876, 'p_lambda': 0.7588420653498217, 'p_nu': 12.0},\n",
    " {'p_m': 0.12123376991501882, 'p_lambda': 0.7982456026015521, 'p_nu': 12.0},\n",
    " {'p_m': 0.1105600956685007, 'p_lambda': 0.8017367211580925, 'p_nu': 12.0},\n",
    " {'p_m': 0.11613253763727473, 'p_lambda': 0.7999631073472214, 'p_nu': 12.0}]"
   ]
  },
  {
   "cell_type": "code",
   "execution_count": 17,
   "metadata": {},
   "outputs": [
    {
     "data": {
      "text/plain": [
       "<bayesml.linearregression._linearregression.LearnModel at 0x14c265750>"
      ]
     },
     "execution_count": 17,
     "metadata": {},
     "output_type": "execute_result"
    }
   ],
   "source": [
    "learn_model.calc_pred_dist(x)"
   ]
  },
  {
   "cell_type": "code",
   "execution_count": 18,
   "metadata": {},
   "outputs": [
    {
     "name": "stdout",
     "output_type": "stream",
     "text": [
      "{'p_m': array([ 0.42714721, -0.10239176, -0.14317522, -0.05631194, -0.13276166,\n",
      "        0.08202323, -0.14854107,  0.12123377,  0.1105601 ,  0.11613254]), 'p_lambda': array([0.59162764, 0.78326394, 0.76197179, 0.80126906, 0.76783858,\n",
      "       0.80909011, 0.75884207, 0.7982456 , 0.80173672, 0.79996311]), 'p_nu': array([12., 12., 12., 12., 12., 12., 12., 12., 12., 12.])}\n"
     ]
    }
   ],
   "source": [
    "print(learn_model.get_p_params())"
   ]
  },
  {
   "cell_type": "code",
   "execution_count": 19,
   "metadata": {},
   "outputs": [
    {
     "name": "stdout",
     "output_type": "stream",
     "text": [
      "[[0. 1. 2.]\n",
      " [0. 1. 2.]\n",
      " [0. 1. 2.]\n",
      " [0. 1. 2.]\n",
      " [0. 1. 2.]\n",
      " [0. 1. 2.]\n",
      " [0. 1. 2.]\n",
      " [0. 1. 2.]\n",
      " [0. 1. 2.]\n",
      " [0. 1. 2.]]\n"
     ]
    },
    {
     "data": {
      "text/plain": [
       "array([[0.28354178, 0.27076362, 0.14224127],\n",
       "       [0.34426717, 0.21054385, 0.06656804],\n",
       "       [0.33819723, 0.20314417, 0.0646226 ],\n",
       "       [0.34927233, 0.21923442, 0.06946039],\n",
       "       [0.33988008, 0.20500214, 0.06506828],\n",
       "       [0.3504216 , 0.24539867, 0.0832551 ],\n",
       "       [0.33729688, 0.20219589, 0.06440598],\n",
       "       [0.34688245, 0.25207632, 0.08862568],\n",
       "       [0.34800388, 0.25031889, 0.08710218],\n",
       "       [0.34743275, 0.25124257, 0.08789194]])"
      ]
     },
     "execution_count": 19,
     "metadata": {},
     "output_type": "execute_result"
    }
   ],
   "source": [
    "y = np.empty((10,3))\n",
    "y[:] = np.arange(3)\n",
    "print(y)\n",
    "learn_model._calc_pred_density(y)"
   ]
  },
  {
   "cell_type": "code",
   "execution_count": 20,
   "metadata": {},
   "outputs": [
    {
     "name": "stdout",
     "output_type": "stream",
     "text": [
      "[0.28354178 0.27076362 0.14224127]\n",
      "[0.34426717 0.21054385 0.06656804]\n",
      "[0.33819723 0.20314417 0.0646226 ]\n",
      "[0.34927233 0.21923442 0.06946039]\n",
      "[0.33988008 0.20500214 0.06506828]\n",
      "[0.3504216  0.24539867 0.0832551 ]\n",
      "[0.33729688 0.20219589 0.06440598]\n",
      "[0.34688245 0.25207632 0.08862568]\n",
      "[0.34800388 0.25031889 0.08710218]\n",
      "[0.34743275 0.25124257 0.08789194]\n"
     ]
    }
   ],
   "source": [
    "for i in range(10):\n",
    "    learn_model.calc_pred_dist(x[i])\n",
    "    print(learn_model._calc_pred_density(np.arange(3)))\n"
   ]
  },
  {
   "cell_type": "code",
   "execution_count": 21,
   "metadata": {},
   "outputs": [
    {
     "name": "stdout",
     "output_type": "stream",
     "text": [
      "{'p_m': array([ 0.42714721, -0.10239176, -0.14317522, -0.05631194, -0.13276166,\n",
      "        0.08202323, -0.14854107,  0.12123377,  0.1105601 ,  0.11613254]), 'p_lambda': array([0.59162764, 0.78326394, 0.76197179, 0.80126906, 0.76783858,\n",
      "       0.80909011, 0.75884207, 0.7982456 , 0.80173672, 0.79996311]), 'p_nu': array([12., 12., 12., 12., 12., 12., 12., 12., 12., 12.])}\n"
     ]
    }
   ],
   "source": [
    "learn_model.calc_pred_dist(x)\n",
    "print(learn_model.get_p_params())"
   ]
  },
  {
   "cell_type": "code",
   "execution_count": 22,
   "metadata": {},
   "outputs": [],
   "source": [
    "pred_dist = learn_model.make_prediction(loss='KL')"
   ]
  },
  {
   "cell_type": "code",
   "execution_count": 24,
   "metadata": {},
   "outputs": [
    {
     "data": {
      "text/plain": [
       "array([[0.28354178, 0.27076362, 0.14224127],\n",
       "       [0.34426717, 0.21054385, 0.06656804],\n",
       "       [0.33819723, 0.20314417, 0.0646226 ],\n",
       "       [0.34927233, 0.21923442, 0.06946039],\n",
       "       [0.33988008, 0.20500214, 0.06506828],\n",
       "       [0.3504216 , 0.24539867, 0.0832551 ],\n",
       "       [0.33729688, 0.20219589, 0.06440598],\n",
       "       [0.34688245, 0.25207632, 0.08862568],\n",
       "       [0.34800388, 0.25031889, 0.08710218],\n",
       "       [0.34743275, 0.25124257, 0.08789194]])"
      ]
     },
     "execution_count": 24,
     "metadata": {},
     "output_type": "execute_result"
    }
   ],
   "source": [
    "pred_dist.pdf(y.T).T"
   ]
  },
  {
   "cell_type": "code",
   "execution_count": 25,
   "metadata": {},
   "outputs": [
    {
     "data": {
      "text/plain": [
       "array([[0.28354178, 0.27076362, 0.14224127],\n",
       "       [0.34426717, 0.21054385, 0.06656804],\n",
       "       [0.33819723, 0.20314417, 0.0646226 ],\n",
       "       [0.34927233, 0.21923442, 0.06946039],\n",
       "       [0.33988008, 0.20500214, 0.06506828],\n",
       "       [0.3504216 , 0.24539867, 0.0832551 ],\n",
       "       [0.33729688, 0.20219589, 0.06440598],\n",
       "       [0.34688245, 0.25207632, 0.08862568],\n",
       "       [0.34800388, 0.25031889, 0.08710218],\n",
       "       [0.34743275, 0.25124257, 0.08789194]])"
      ]
     },
     "execution_count": 25,
     "metadata": {},
     "output_type": "execute_result"
    }
   ],
   "source": [
    "learn_model._calc_pred_density(y)"
   ]
  },
  {
   "cell_type": "code",
   "execution_count": null,
   "metadata": {},
   "outputs": [
    {
     "data": {
      "text/plain": [
       "array([[0., 1., 2.],\n",
       "       [0., 1., 2.],\n",
       "       [0., 1., 2.],\n",
       "       [0., 1., 2.],\n",
       "       [0., 1., 2.],\n",
       "       [0., 1., 2.],\n",
       "       [0., 1., 2.],\n",
       "       [0., 1., 2.],\n",
       "       [0., 1., 2.],\n",
       "       [0., 1., 2.]])"
      ]
     },
     "execution_count": 35,
     "metadata": {},
     "output_type": "execute_result"
    }
   ],
   "source": [
    "y"
   ]
  },
  {
   "cell_type": "code",
   "execution_count": 26,
   "metadata": {},
   "outputs": [
    {
     "data": {
      "text/plain": [
       "<bayesml.linearregression._linearregression.LearnModel at 0x14c265750>"
      ]
     },
     "execution_count": 26,
     "metadata": {},
     "output_type": "execute_result"
    }
   ],
   "source": [
    "learn_model.calc_pred_dist(x)"
   ]
  },
  {
   "cell_type": "code",
   "execution_count": 27,
   "metadata": {},
   "outputs": [
    {
     "data": {
      "text/plain": [
       "array([[0.28354178, 0.27076362, 0.14224127],\n",
       "       [0.34426717, 0.21054385, 0.06656804],\n",
       "       [0.33819723, 0.20314417, 0.0646226 ],\n",
       "       [0.34927233, 0.21923442, 0.06946039],\n",
       "       [0.33988008, 0.20500214, 0.06506828],\n",
       "       [0.3504216 , 0.24539867, 0.0832551 ],\n",
       "       [0.33729688, 0.20219589, 0.06440598],\n",
       "       [0.34688245, 0.25207632, 0.08862568],\n",
       "       [0.34800388, 0.25031889, 0.08710218],\n",
       "       [0.34743275, 0.25124257, 0.08789194]])"
      ]
     },
     "execution_count": 27,
     "metadata": {},
     "output_type": "execute_result"
    }
   ],
   "source": [
    "learn_model._calc_pred_density(y)"
   ]
  },
  {
   "cell_type": "code",
   "execution_count": null,
   "metadata": {},
   "outputs": [
    {
     "data": {
      "text/plain": [
       "array([2.83541778e-01, 2.10543853e-01, 6.46225967e-02, 1.49772611e-02,\n",
       "       2.81630649e-03, 6.53655584e-04, 1.21651326e-04, 3.36726126e-05,\n",
       "       8.17436242e-06, 2.31787203e-06])"
      ]
     },
     "execution_count": 29,
     "metadata": {},
     "output_type": "execute_result"
    }
   ],
   "source": [
    "learn_model._calc_pred_density(np.arange(10))"
   ]
  },
  {
   "cell_type": "code",
   "execution_count": null,
   "metadata": {},
   "outputs": [],
   "source": []
  }
 ],
 "metadata": {
  "kernelspec": {
   "display_name": "bayesml_dev",
   "language": "python",
   "name": "python3"
  },
  "language_info": {
   "codemirror_mode": {
    "name": "ipython",
    "version": 3
   },
   "file_extension": ".py",
   "mimetype": "text/x-python",
   "name": "python",
   "nbconvert_exporter": "python",
   "pygments_lexer": "ipython3",
   "version": "3.11.3"
  }
 },
 "nbformat": 4,
 "nbformat_minor": 2
}
